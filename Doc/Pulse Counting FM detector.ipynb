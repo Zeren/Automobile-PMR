{
 "cells": [
  {
   "cell_type": "code",
   "execution_count": 2,
   "metadata": {
    "collapsed": true
   },
   "outputs": [],
   "source": [
    "from numpy import *\n",
    "import matplotlib.pyplot as plt"
   ]
  },
  {
   "cell_type": "code",
   "execution_count": 3,
   "outputs": [],
   "source": [
    "fc = 100e3\n",
    "BW = 12.6e3\n",
    "T_pulse = 5e-6"
   ],
   "metadata": {
    "collapsed": false,
    "pycharm": {
     "name": "#%%\n"
    }
   }
  },
  {
   "cell_type": "code",
   "execution_count": 4,
   "outputs": [
    {
     "name": "stdout",
     "output_type": "stream",
     "text": [
      "Maximalni napeti 1.7539500000000001, Minimalni napeti 1.54605\n",
      "Amplituda: 0.2079000000000002\n"
     ]
    }
   ],
   "source": [
    "S_L = T_pulse*(fc-BW/2)\n",
    "S_H = T_pulse*(fc+BW/2)\n",
    "print('Maximalni napeti {0}, Minimalni napeti {1}'.format(S_H*3.3, S_L*3.3))\n",
    "print('Amplituda: {0}'.format(S_H*3.3 - S_L*3.3))"
   ],
   "metadata": {
    "collapsed": false,
    "pycharm": {
     "name": "#%%\n"
    }
   }
  },
  {
   "cell_type": "code",
   "execution_count": 5,
   "outputs": [
    {
     "name": "stdout",
     "output_type": "stream",
     "text": [
      "NF: -132.99629454882438\n"
     ]
    }
   ],
   "source": [
    "NPSD = -174\n",
    "NF = NPSD + 10*log10(BW)\n",
    "print('NF: {0}'.format(NF))"
   ],
   "metadata": {
    "collapsed": false,
    "pycharm": {
     "name": "#%%\n"
    }
   }
  },
  {
   "cell_type": "code",
   "execution_count": 26,
   "outputs": [
    {
     "name": "stdout",
     "output_type": "stream",
     "text": [
      "-26.989700043360187\n"
     ]
    }
   ],
   "source": [
    "det_min_V = 0.01\n",
    "min_P = 10*log10(det_min_V**2/50) + 30\n",
    "print(min_P)"
   ],
   "metadata": {
    "collapsed": false,
    "pycharm": {
     "name": "#%%\n"
    }
   }
  },
  {
   "cell_type": "code",
   "execution_count": 27,
   "outputs": [
    {
     "name": "stdout",
     "output_type": "stream",
     "text": [
      "106.0065945054642\n"
     ]
    }
   ],
   "source": [
    "max_gain = min_P - NF\n",
    "print(max_gain)"
   ],
   "metadata": {
    "collapsed": false,
    "pycharm": {
     "name": "#%%\n"
    }
   }
  },
  {
   "cell_type": "code",
   "execution_count": 29,
   "outputs": [
    {
     "data": {
      "text/plain": "102.64"
     },
     "execution_count": 29,
     "metadata": {},
     "output_type": "execute_result"
    }
   ],
   "source": [
    "# Celkovy zisk\n",
    "22.1 - 3 + 22.1 - 5.78 + 60 -4.78 + 12"
   ],
   "metadata": {
    "collapsed": false,
    "pycharm": {
     "name": "#%%\n"
    }
   }
  }
 ],
 "metadata": {
  "kernelspec": {
   "display_name": "Python 3",
   "language": "python",
   "name": "python3"
  },
  "language_info": {
   "codemirror_mode": {
    "name": "ipython",
    "version": 2
   },
   "file_extension": ".py",
   "mimetype": "text/x-python",
   "name": "python",
   "nbconvert_exporter": "python",
   "pygments_lexer": "ipython2",
   "version": "2.7.6"
  }
 },
 "nbformat": 4,
 "nbformat_minor": 0
}